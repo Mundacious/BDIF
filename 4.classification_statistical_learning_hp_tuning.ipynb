{
 "cells": [
  {
   "cell_type": "markdown",
   "metadata": {},
   "source": [
    "# Classification through statistical learning\n",
    "(Logistic Regression, KNN, SVM, Naive Bayes, RandomForest)"
   ]
  },
  {
   "cell_type": "markdown",
   "metadata": {},
   "source": [
    "#### Import packages "
   ]
  },
  {
   "cell_type": "code",
   "execution_count": 1,
   "metadata": {
    "collapsed": true
   },
   "outputs": [],
   "source": [
    "import os\n",
    "import numpy as np\n",
    "import pandas as pd\n",
    "import seaborn as sns\n",
    "import matplotlib.pyplot as plt\n",
    "import datetime\n",
    "plt.style.use('seaborn-poster')"
   ]
  },
  {
   "cell_type": "code",
   "execution_count": 2,
   "metadata": {
    "collapsed": true
   },
   "outputs": [],
   "source": [
    "from sklearn.linear_model import LogisticRegression\n",
    "from sklearn.neighbors import KNeighborsClassifier\n",
    "from sklearn.svm import SVC\n",
    "from sklearn.naive_bayes import GaussianNB\n",
    "from sklearn.ensemble import RandomForestClassifier\n",
    "from sklearn import metrics\n",
    "from sklearn.preprocessing import StandardScaler"
   ]
  },
  {
   "cell_type": "markdown",
   "metadata": {},
   "source": [
    "#### Load prepared data set "
   ]
  },
  {
   "cell_type": "code",
   "execution_count": 3,
   "metadata": {
    "collapsed": true
   },
   "outputs": [],
   "source": [
    "import data_formatter\n",
    "\n",
    "data_set = pd.read_csv(\"prepared_dataset.csv\")"
   ]
  },
  {
   "cell_type": "markdown",
   "metadata": {},
   "source": [
    "#### Consider features only from the current event for now "
   ]
  },
  {
   "cell_type": "code",
   "execution_count": 34,
   "metadata": {
    "collapsed": true
   },
   "outputs": [],
   "source": [
    "nb_events_as_features = 5\n",
    "\n",
    "X, y = data_formatter.prepare_data_set(data_set, nb_events_as_features)"
   ]
  },
  {
   "cell_type": "markdown",
   "metadata": {},
   "source": [
    "#### Train, validation, test split for simple algorithms comparison\n",
    "\n",
    "Note that we can't use cross validation given the temporality of the data.\n",
    "\n",
    "Cross validation would introduce *future bias* "
   ]
  },
  {
   "cell_type": "code",
   "execution_count": 35,
   "metadata": {
    "collapsed": true
   },
   "outputs": [],
   "source": [
    "proportion_train = 0.8\n",
    "proportion_validation = 0.1\n",
    "\n",
    "cut_train = round(X.shape[0] * proportion_train)\n",
    "cut_validation = round(X.shape[0] * (proportion_train + proportion_validation))\n",
    "\n",
    "X_train, y_train = X.iloc[:cut_train,:], y.iloc[:cut_train]\n",
    "X_validation, y_validation = X.iloc[cut_train:cut_validation,:], y.iloc[cut_train:cut_validation]\n",
    "X_test, y_test = X.iloc[cut_validation:,:], y.iloc[cut_validation:]\n",
    "\n",
    "scaler = StandardScaler()\n",
    "X_train = scaler.fit_transform(X_train)\n",
    "X_validation = scaler.transform(X_validation)\n",
    "X_test = scaler.transform(X_test)"
   ]
  },
  {
   "cell_type": "markdown",
   "metadata": {},
   "source": [
    "Before applying the algorithms, let's define some helper functions.\n",
    "\n",
    "Those functions will be called often to print metrics on predicted classes\n",
    "\n",
    "and print predicted probabilities (for the logistic regression and naive bayes methods)"
   ]
  },
  {
   "cell_type": "code",
   "execution_count": 36,
   "metadata": {
    "collapsed": true
   },
   "outputs": [],
   "source": [
    "def print_metrics(y_theoric, y_predicted):\n",
    "    confusion_matrix = metrics.confusion_matrix(y_theoric, y_predicted)\n",
    "    print('Confusion matrix: \\n {}'.format(confusion_matrix))\n",
    "    print('{:15}: {:>12}'.format('Null accuracy', y_theoric.value_counts()[0] / len(y_theoric)))\n",
    "    print('{:15}: {:>12}'.format('Accuracy', metrics.accuracy_score(y_theoric, y_predicted)))\n",
    "    print('{:15}: {:>12}'.format('Error', 1 - metrics.accuracy_score(y_theoric, y_predicted)))\n",
    "    print('{:15}: {:>12}'.format('Sensitivity', confusion_matrix[1,1] / (confusion_matrix[1,1] + confusion_matrix[1,0]) ))\n",
    "    print('{:15}: {:>12}'.format('Specificity', confusion_matrix[0,0] / (confusion_matrix[0,0] + confusion_matrix[0,1]) ))\n",
    "    # print(metrics.recall_score(y_validation, y_validation_pred_class))\n",
    "    \n",
    "\n",
    "def plot_predicted_probabilities(y_lr_validation_pred_prob):\n",
    "    plt.hist(y_lr_validation_pred_prob, bins=20)\n",
    "    plt.xlim(0, 1)\n",
    "    plt.title('Histogram of predicted probabilities')\n",
    "    plt.xlabel('Predicted probability of up move')\n",
    "    plt.ylabel('Frequency')\n",
    "    plt.show()"
   ]
  },
  {
   "cell_type": "markdown",
   "metadata": {},
   "source": [
    "#### Logistic regression "
   ]
  },
  {
   "cell_type": "code",
   "execution_count": 37,
   "metadata": {},
   "outputs": [
    {
     "name": "stdout",
     "output_type": "stream",
     "text": [
      "1 loop, best of 3: 8.43 s per loop\n"
     ]
    }
   ],
   "source": [
    "lr_model = LogisticRegression(penalty='l2', C=1)\n",
    "%timeit lr_model.fit(X_train, y_train)\n",
    "y_lr_validation_pred_class = lr_model.predict(X_validation)"
   ]
  },
  {
   "cell_type": "markdown",
   "metadata": {},
   "source": [
    "#### Print metrics to compare algortihms "
   ]
  },
  {
   "cell_type": "code",
   "execution_count": 38,
   "metadata": {},
   "outputs": [
    {
     "name": "stdout",
     "output_type": "stream",
     "text": [
      "Confusion matrix: \n",
      " [[938 511]\n",
      " [362 944]]\n",
      "Null accuracy  : 0.5259528130671506\n",
      "Accuracy       : 0.6831215970961887\n",
      "Error          : 0.3168784029038113\n",
      "Sensitivity    : 0.7228177641653905\n",
      "Specificity    : 0.6473429951690821\n"
     ]
    }
   ],
   "source": [
    "print_metrics(y_validation, y_lr_validation_pred_class)"
   ]
  },
  {
   "cell_type": "markdown",
   "metadata": {},
   "source": [
    "####  Predicted probabilities to see if tweaking the threshold is interesting "
   ]
  },
  {
   "cell_type": "code",
   "execution_count": 39,
   "metadata": {},
   "outputs": [
    {
     "data": {
      "image/png": "[encoded data removed]",
      "text/plain": [
       "<matplotlib.figure.Figure at 0x7fb7f59b68d0>"
      ]
     },
     "metadata": {},
     "output_type": "display_data"
    }
   ],
   "source": [
    "y_lr_validation_pred_prob = lr_model.predict_proba(X_validation)[:, 1]\n",
    "plot_predicted_probabilities(y_lr_validation_pred_prob)"
   ]
  },
  {
   "cell_type": "markdown",
   "metadata": {},
   "source": [
    "#### KNN "
   ]
  },
  {
   "cell_type": "code",
   "execution_count": 40,
   "metadata": {},
   "outputs": [
    {
     "name": "stdout",
     "output_type": "stream",
     "text": [
      "1 loop, best of 3: 209 ms per loop\n"
     ]
    }
   ],
   "source": [
    "knn_model = KNeighborsClassifier(n_neighbors=5, weights='uniform')\n",
    "%timeit knn_model.fit(X_train, y_train)\n",
    "y_knn_validation_pred_class = knn_model.predict(X_validation)"
   ]
  },
  {
   "cell_type": "markdown",
   "metadata": {},
   "source": [
    "#### Print metrics to compare algortihms "
   ]
  },
  {
   "cell_type": "code",
   "execution_count": 41,
   "metadata": {},
   "outputs": [
    {
     "name": "stdout",
     "output_type": "stream",
     "text": [
      "Confusion matrix: \n",
      " [[873 576]\n",
      " [649 657]]\n",
      "Null accuracy  : 0.5259528130671506\n",
      "Accuracy       : 0.5553539019963702\n",
      "Error          : 0.44464609800362975\n",
      "Sensitivity    : 0.503062787136294\n",
      "Specificity    : 0.6024844720496895\n"
     ]
    }
   ],
   "source": [
    "print_metrics(y_validation, y_knn_validation_pred_class)"
   ]
  },
  {
   "cell_type": "markdown",
   "metadata": {},
   "source": [
    "####  Predicted probabilities to see if tweaking the threshold is interesting "
   ]
  },
  {
   "cell_type": "code",
   "execution_count": 42,
   "metadata": {},
   "outputs": [
    {
     "data": {
      "image/png": "[encoded data removed]",
      "text/plain": [
       "<matplotlib.figure.Figure at 0x7fb7f5f98e48>"
      ]
     },
     "metadata": {},
     "output_type": "display_data"
    }
   ],
   "source": [
    "y_knn_validation_pred_prob = knn_model.predict_proba(X_validation)[:, 1]\n",
    "plot_predicted_probabilities(y_knn_validation_pred_prob)"
   ]
  },
  {
   "cell_type": "markdown",
   "metadata": {},
   "source": [
    "#### SVM "
   ]
  },
  {
   "cell_type": "code",
   "execution_count": 43,
   "metadata": {},
   "outputs": [
    {
     "name": "stdout",
     "output_type": "stream",
     "text": [
      "181.2985122203827\n"
     ]
    }
   ],
   "source": [
    "import time \n",
    "# can't use %timeit locally, SVM too long, maybe on GCP\n",
    "\n",
    "svm_model = SVC(C=1, kernel='rbf')\n",
    "\n",
    "start = time.time()\n",
    "svm_model.fit(X_train, y_train)\n",
    "print(str(time.time() - start))\n",
    "\n",
    "y_svm_validation_pred_class = svm_model.predict(X_validation)"
   ]
  },
  {
   "cell_type": "markdown",
   "metadata": {},
   "source": [
    "#### Print metrics to compare algortihms "
   ]
  },
  {
   "cell_type": "code",
   "execution_count": 44,
   "metadata": {},
   "outputs": [
    {
     "name": "stdout",
     "output_type": "stream",
     "text": [
      "Confusion matrix: \n",
      " [[ 690  759]\n",
      " [ 301 1005]]\n",
      "Null accuracy  : 0.5259528130671506\n",
      "Accuracy       : 0.6152450090744102\n",
      "Error          : 0.38475499092558985\n",
      "Sensitivity    : 0.7695252679938744\n",
      "Specificity    : 0.47619047619047616\n"
     ]
    }
   ],
   "source": [
    "print_metrics(y_validation, y_svm_validation_pred_class)"
   ]
  },
  {
   "cell_type": "markdown",
   "metadata": {},
   "source": [
    "#### Naive Bayes "
   ]
  },
  {
   "cell_type": "code",
   "execution_count": 45,
   "metadata": {},
   "outputs": [
    {
     "name": "stdout",
     "output_type": "stream",
     "text": [
      "10 loops, best of 3: 77.4 ms per loop\n"
     ]
    }
   ],
   "source": [
    "gnb_model = GaussianNB()\n",
    "%timeit gnb_model.fit(X_train, y_train)\n",
    "y_gnb_validation_pred_class = gnb_model.predict(X_validation)"
   ]
  },
  {
   "cell_type": "markdown",
   "metadata": {},
   "source": [
    "#### Print metrics to compare algortihms "
   ]
  },
  {
   "cell_type": "code",
   "execution_count": 46,
   "metadata": {},
   "outputs": [
    {
     "name": "stdout",
     "output_type": "stream",
     "text": [
      "Confusion matrix: \n",
      " [[  30 1419]\n",
      " [  20 1286]]\n",
      "Null accuracy  : 0.5259528130671506\n",
      "Accuracy       : 0.47767695099818513\n",
      "Error          : 0.5223230490018149\n",
      "Sensitivity    : 0.9846860643185299\n",
      "Specificity    : 0.020703933747412008\n"
     ]
    }
   ],
   "source": [
    "print_metrics(y_validation, y_gnb_validation_pred_class)"
   ]
  },
  {
   "cell_type": "markdown",
   "metadata": {},
   "source": [
    "####  Predicted probabilities to see if tweaking the threshold is interesting "
   ]
  },
  {
   "cell_type": "code",
   "execution_count": 47,
   "metadata": {},
   "outputs": [
    {
     "data": {
      "image/png": "[encoded data removed]",
      "text/plain": [
       "<matplotlib.figure.Figure at 0x7fb7f59cf3c8>"
      ]
     },
     "metadata": {},
     "output_type": "display_data"
    }
   ],
   "source": [
    "y_gnb_validation_pred_prob = gnb_model.predict_proba(X_validation)[:, 1]\n",
    "plot_predicted_probabilities(y_gnb_validation_pred_prob)"
   ]
  },
  {
   "cell_type": "markdown",
   "metadata": {},
   "source": [
    "#### Random Forest"
   ]
  },
  {
   "cell_type": "code",
   "execution_count": 48,
   "metadata": {},
   "outputs": [
    {
     "name": "stdout",
     "output_type": "stream",
     "text": [
      "1 loop, best of 3: 2 s per loop\n"
     ]
    }
   ],
   "source": [
    "rf_model = RandomForestClassifier()\n",
    "%timeit rf_model.fit(X_train, y_train)\n",
    "y_rf_validation_pred_class = rf_model.predict(X_validation)"
   ]
  },
  {
   "cell_type": "markdown",
   "metadata": {},
   "source": [
    "#### Print metrics to compare algortihms "
   ]
  },
  {
   "cell_type": "code",
   "execution_count": 49,
   "metadata": {},
   "outputs": [
    {
     "name": "stdout",
     "output_type": "stream",
     "text": [
      "Confusion matrix: \n",
      " [[992 457]\n",
      " [595 711]]\n",
      "Null accuracy  : 0.5259528130671506\n",
      "Accuracy       : 0.6181488203266787\n",
      "Error          : 0.3818511796733213\n",
      "Sensitivity    : 0.5444104134762634\n",
      "Specificity    : 0.6846100759144237\n"
     ]
    }
   ],
   "source": [
    "print_metrics(y_validation, y_rf_validation_pred_class)"
   ]
  },
  {
   "cell_type": "markdown",
   "metadata": {},
   "source": [
    "####  Predicted probabilities to see if tweaking the threshold is interesting "
   ]
  },
  {
   "cell_type": "code",
   "execution_count": 50,
   "metadata": {},
   "outputs": [
    {
     "data": {
      "image/png": "[encoded data removed]",
      "text/plain": [
       "<matplotlib.figure.Figure at 0x7fb7f0df3550>"
      ]
     },
     "metadata": {},
     "output_type": "display_data"
    }
   ],
   "source": [
    "y_rf_validation_pred_prob = rf_model.predict_proba(X_validation)[:, 1]\n",
    "plot_predicted_probabilities(y_rf_validation_pred_prob)"
   ]
  },
  {
   "cell_type": "code",
   "execution_count": 51,
   "metadata": {},
   "outputs": [
    {
     "name": "stdout",
     "output_type": "stream",
     "text": [
      "Confusion matrix: \n",
      " [[ 830  486]\n",
      " [ 435 1004]]\n",
      "Null accuracy  : 0.47767695099818513\n",
      "Accuracy       : 0.6656987295825771\n",
      "Error          : 0.33430127041742286\n",
      "Sensitivity    : 0.6977067407922168\n",
      "Specificity    : 0.6306990881458967\n"
     ]
    }
   ],
   "source": [
    "y_lr_test_pred_class = lr_model.predict(X_test)\n",
    "print_metrics(y_test, y_lr_test_pred_class)"
   ]
  },
  {
   "cell_type": "code",
   "execution_count": 52,
   "metadata": {},
   "outputs": [
    {
     "name": "stdout",
     "output_type": "stream",
     "text": [
      "Confusion matrix: \n",
      " [[737 579]\n",
      " [735 704]]\n",
      "Null accuracy  : 0.47767695099818513\n",
      "Accuracy       : 0.523049001814882\n",
      "Error          : 0.476950998185118\n",
      "Sensitivity    : 0.48922863099374564\n",
      "Specificity    : 0.5600303951367781\n"
     ]
    }
   ],
   "source": [
    "y_knn_test_pred_class = knn_model.predict(X_test)\n",
    "print_metrics(y_test, y_knn_test_pred_class)"
   ]
  },
  {
   "cell_type": "code",
   "execution_count": 53,
   "metadata": {},
   "outputs": [
    {
     "name": "stdout",
     "output_type": "stream",
     "text": [
      "Confusion matrix: \n",
      " [[ 458  858]\n",
      " [ 263 1176]]\n",
      "Null accuracy  : 0.47767695099818513\n",
      "Accuracy       : 0.593103448275862\n",
      "Error          : 0.40689655172413797\n",
      "Sensitivity    : 0.817234190410007\n",
      "Specificity    : 0.34802431610942247\n"
     ]
    }
   ],
   "source": [
    "y_svm_test_pred_class = svm_model.predict(X_test)\n",
    "print_metrics(y_test, y_svm_test_pred_class)"
   ]
  },
  {
   "cell_type": "code",
   "execution_count": 54,
   "metadata": {},
   "outputs": [
    {
     "name": "stdout",
     "output_type": "stream",
     "text": [
      "Confusion matrix: \n",
      " [[  91 1225]\n",
      " [  73 1366]]\n",
      "Null accuracy  : 0.47767695099818513\n",
      "Accuracy       : 0.5288566243194193\n",
      "Error          : 0.47114337568058073\n",
      "Sensitivity    : 0.9492703266157053\n",
      "Specificity    : 0.06914893617021277\n"
     ]
    }
   ],
   "source": [
    "y_gnb_test_pred_class = gnb_model.predict(X_test)\n",
    "print_metrics(y_test, y_gnb_test_pred_class)"
   ]
  },
  {
   "cell_type": "code",
   "execution_count": 55,
   "metadata": {},
   "outputs": [
    {
     "name": "stdout",
     "output_type": "stream",
     "text": [
      "Confusion matrix: \n",
      " [[825 491]\n",
      " [691 748]]\n",
      "Null accuracy  : 0.47767695099818513\n",
      "Accuracy       : 0.570961887477314\n",
      "Error          : 0.429038112522686\n",
      "Sensitivity    : 0.5198054204308548\n",
      "Specificity    : 0.6268996960486323\n"
     ]
    }
   ],
   "source": [
    "y_rf_test_pred_class = rf_model.predict(X_test)\n",
    "print_metrics(y_test, y_rf_test_pred_class)"
   ]
  },
  {
   "cell_type": "code",
   "execution_count": null,
   "metadata": {
    "collapsed": true
   },
   "outputs": [],
   "source": []
  }
 ],
 "metadata": {
  "kernelspec": {
   "display_name": "Python 3",
   "language": "python",
   "name": "python3"
  },
  "language_info": {
   "codemirror_mode": {
    "name": "ipython",
    "version": 3
   },
   "file_extension": ".py",
   "mimetype": "text/x-python",
   "name": "python",
   "nbconvert_exporter": "python",
   "pygments_lexer": "ipython3",
   "version": "3.5.3"
  }
 },
 "nbformat": 4,
 "nbformat_minor": 2
}
